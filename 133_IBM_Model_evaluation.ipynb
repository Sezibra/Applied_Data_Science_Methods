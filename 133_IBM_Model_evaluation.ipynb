{
 "cells": [
  {
   "cell_type": "markdown",
   "id": "674edc8f-5826-4d71-9678-6c2bd6a5985b",
   "metadata": {},
   "source": [
    "#### MODEL EVALUATION AND REFINEMENT"
   ]
  },
  {
   "cell_type": "markdown",
   "id": "f1b324cd-7486-48b7-9066-4cccae8e67b5",
   "metadata": {},
   "source": [
    "##### UNDER FITTING"
   ]
  },
  {
   "cell_type": "code",
   "execution_count": 68,
   "id": "084422f5-5b2b-4264-83a6-9b795ff47bb1",
   "metadata": {},
   "outputs": [
    {
     "name": "stdout",
     "output_type": "stream",
     "text": [
      "Polynomial Degree 1: R^2 = 0.7557\n",
      "Polynomial Degree 2: R^2 = 0.7629\n",
      "Polynomial Degree 3: R^2 = 0.7756\n",
      "Polynomial Degree 4: R^2 = 0.7818\n"
     ]
    }
   ],
   "source": [
    "import pandas as pd\n",
    "from sklearn.model_selection import train_test_split\n",
    "from sklearn.preprocessing import PolynomialFeatures\n",
    "from sklearn.linear_model import LinearRegression\n",
    "\n",
    "# Load the dataset\n",
    "df = pd.read_csv(\"/Users/cansezgin/Python-Output/automobile.csv\")\n",
    "\n",
    "# Clean the data: ensure 'horsepower' and 'price' are numeric and remove missing values\n",
    "df['horsepower'] = pd.to_numeric(df['horsepower'], errors='coerce')\n",
    "df['price'] = pd.to_numeric(df['price'], errors='coerce')\n",
    "df_cleaned = df.dropna(subset=['horsepower', 'price'])  # drop rows with missing values in those columns\n",
    "\n",
    "# Define the feature and target\n",
    "X = df_cleaned[['horsepower']]\n",
    "y = df_cleaned['price']\n",
    "\n",
    "# Split data into training and testing sets\n",
    "x_train, x_test, y_train, y_test = train_test_split(X, y, test_size=0.2, random_state=1)\n",
    "\n",
    "# Create an empty list to store R² scores\n",
    "Rsqu_test = []\n",
    "\n",
    "# Try polynomial degrees from 1 to 4\n",
    "order = [1, 2, 3, 4]\n",
    "\n",
    "for n in order:\n",
    "    # Create polynomial features\n",
    "    pr = PolynomialFeatures(degree=n)\n",
    "    \n",
    "    # Transform both training and test features\n",
    "    x_train_pr = pr.fit_transform(x_train)\n",
    "    x_test_pr = pr.transform(x_test)\n",
    "    \n",
    "    # Fit linear regression model\n",
    "    lr = LinearRegression()\n",
    "    lr.fit(x_train_pr, y_train)\n",
    "    \n",
    "    # Calculate R² on test data and append to the list\n",
    "    score = lr.score(x_test_pr, y_test)\n",
    "    Rsqu_test.append(score)\n",
    "\n",
    "# Print R² scores for each polynomial degree\n",
    "for deg, score in zip(order, Rsqu_test):\n",
    "    print(f\"Polynomial Degree {deg}: R^2 = {score:.4f}\")"
   ]
  },
  {
   "cell_type": "markdown",
   "id": "d5007ff8-7442-4d3d-9520-9dc03aa3df67",
   "metadata": {},
   "source": [
    "##### OVER FITTING & RIDGE REGRESSION"
   ]
  },
  {
   "cell_type": "code",
   "execution_count": 79,
   "id": "b7eba950-2b5a-435d-9bd4-50b14abdfea9",
   "metadata": {},
   "outputs": [
    {
     "name": "stdout",
     "output_type": "stream",
     "text": [
      "[14552.71841567 14552.71841567 21957.5845643  13002.86271014\n",
      " 15241.54317368]\n"
     ]
    }
   ],
   "source": [
    "from sklearn.linear_model import Ridge\n",
    "\n",
    "# Use cleaned data\n",
    "X = df_cleaned[['horsepower']]\n",
    "y = df_cleaned['price']\n",
    "\n",
    "# Create Ridge regression model\n",
    "RidgeModel = Ridge(alpha=0.1)\n",
    "\n",
    "# Fit the model\n",
    "RidgeModel.fit(X, y)\n",
    "\n",
    "# Predict values\n",
    "Yhat = RidgeModel.predict(X)\n",
    "\n",
    "# Optional: inspect predictions\n",
    "print(Yhat[:5])  # show first 5 predictions"
   ]
  },
  {
   "cell_type": "markdown",
   "id": "7337cd89-87e6-45dc-8a74-d722c1b72e58",
   "metadata": {},
   "source": [
    "##### GRID SEARCH"
   ]
  },
  {
   "cell_type": "code",
   "execution_count": 98,
   "id": "194dd288-4d10-4b16-a05b-6d39d1d73ab1",
   "metadata": {},
   "outputs": [
    {
     "name": "stdout",
     "output_type": "stream",
     "text": [
      "Best Ridge Estimator: Ridge(alpha=10000)\n",
      "\n",
      "Mean test scores for each alpha:\n",
      "alpha = 0.001    --> R² mean score = 0.6470\n",
      "alpha = 0.1      --> R² mean score = 0.6470\n",
      "alpha = 1        --> R² mean score = 0.6470\n",
      "alpha = 10       --> R² mean score = 0.6471\n",
      "alpha = 100      --> R² mean score = 0.6475\n",
      "alpha = 1000     --> R² mean score = 0.6498\n",
      "alpha = 10000    --> R² mean score = 0.6525\n",
      "alpha = 100000   --> R² mean score = 0.6419\n"
     ]
    }
   ],
   "source": [
    "import pandas as pd\n",
    "from sklearn.linear_model import Ridge\n",
    "from sklearn.model_selection import GridSearchCV\n",
    "\n",
    "# Load the dataset\n",
    "df = pd.read_csv(\"/Users/cansezgin/Python-Output/automobile.csv\")\n",
    "\n",
    "# Clean column names (remove leading/trailing spaces)\n",
    "df.columns = df.columns.str.strip()\n",
    "\n",
    "# Define relevant columns and clean data\n",
    "cols = ['horsepower', 'curb-weight', 'engine-size', 'highway-mpg', 'price']\n",
    "for col in cols:\n",
    "    df[col] = pd.to_numeric(df[col], errors='coerce')\n",
    "df_cleaned = df.dropna(subset=cols)\n",
    "\n",
    "# Define features and target\n",
    "x_data = df_cleaned[['horsepower', 'curb-weight', 'engine-size', 'highway-mpg']]\n",
    "y_data = df_cleaned['price']\n",
    "\n",
    "# Ridge regression with grid search\n",
    "parameters1 = [{'alpha': [0.001, 0.1, 1, 10, 100, 1000, 10000, 100000]}]\n",
    "RR = Ridge()\n",
    "Grid1 = GridSearchCV(RR, parameters1, cv=4)\n",
    "Grid1.fit(x_data, y_data)\n",
    "\n",
    "# Output best estimator and scores\n",
    "print(\"Best Ridge Estimator:\", Grid1.best_estimator_)\n",
    "\n",
    "scores = Grid1.cv_results_\n",
    "print(\"\\nMean test scores for each alpha:\")\n",
    "for alpha, score in zip(parameters1[0]['alpha'], scores['mean_test_score']):\n",
    "    print(f\"alpha = {alpha:<8} --> R² mean score = {score:.4f}\")"
   ]
  },
  {
   "cell_type": "code",
   "execution_count": 108,
   "id": "f1fd375f-eb72-4d00-b0a4-1fe4e684ffa1",
   "metadata": {},
   "outputs": [
    {
     "name": "stdout",
     "output_type": "stream",
     "text": [
      "{'alpha': 0.001} --> R² test: 0.6470, R² train: 0.8164\n",
      "{'alpha': 0.1} --> R² test: 0.6470, R² train: 0.8164\n",
      "{'alpha': 1} --> R² test: 0.6470, R² train: 0.8164\n",
      "{'alpha': 10} --> R² test: 0.6471, R² train: 0.8164\n",
      "{'alpha': 100} --> R² test: 0.6475, R² train: 0.8164\n",
      "{'alpha': 1000} --> R² test: 0.6498, R² train: 0.8163\n",
      "{'alpha': 10000} --> R² test: 0.6525, R² train: 0.8151\n",
      "{'alpha': 100000} --> R² test: 0.6419, R² train: 0.7925\n"
     ]
    }
   ],
   "source": [
    "from sklearn.linear_model import Ridge\n",
    "from sklearn.model_selection import GridSearchCV\n",
    "\n",
    "parameters1 = [{'alpha': [0.001, 0.1, 1, 10, 100, 1000, 10000, 100000]}]\n",
    "RR = Ridge()\n",
    "\n",
    "# Enable return of training scores\n",
    "Grid1 = GridSearchCV(RR, parameters1, cv=4, return_train_score=True)\n",
    "Grid1.fit(x_data, y_data)\n",
    "\n",
    "scores = Grid1.cv_results_\n",
    "\n",
    "# Nicely formatted output\n",
    "for param, mean_test, mean_train in zip(scores['params'], \n",
    "                                        scores['mean_test_score'], \n",
    "                                        scores['mean_train_score']):\n",
    "    print(f\"{param} --> R² test: {mean_test:.4f}, R² train: {mean_train:.4f}\")"
   ]
  }
 ],
 "metadata": {
  "kernelspec": {
   "display_name": "Python 3 (ipykernel)",
   "language": "python",
   "name": "python3"
  },
  "language_info": {
   "codemirror_mode": {
    "name": "ipython",
    "version": 3
   },
   "file_extension": ".py",
   "mimetype": "text/x-python",
   "name": "python",
   "nbconvert_exporter": "python",
   "pygments_lexer": "ipython3",
   "version": "3.11.7"
  }
 },
 "nbformat": 4,
 "nbformat_minor": 5
}
