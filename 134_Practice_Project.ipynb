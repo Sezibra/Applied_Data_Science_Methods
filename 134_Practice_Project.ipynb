{
 "cells": [
  {
   "cell_type": "markdown",
   "id": "824e33bc-c2db-4fc5-8b02-64013b1ad45d",
   "metadata": {},
   "source": [
    "## PRACTICE PROJECT"
   ]
  },
  {
   "cell_type": "code",
   "execution_count": 171,
   "id": "7f58a45b-7e71-427f-9a23-16e0cbf9008d",
   "metadata": {},
   "outputs": [],
   "source": [
    "import pandas as pd\n",
    "import matplotlib.pyplot as plt\n",
    "import numpy as np\n",
    "import seaborn as sns\n",
    "from sklearn.pipeline import Pipeline\n",
    "from sklearn.preprocessing import StandardScaler, PolynomialFeatures\n",
    "from sklearn.linear_model import LinearRegression, Ridge\n",
    "from sklearn.metrics import mean_squared_error, r2_score\n",
    "from sklearn.model_selection import cross_val_score, train_test_split"
   ]
  },
  {
   "cell_type": "markdown",
   "id": "b9c948ab-f610-4a7f-9e31-67c02e91c2f6",
   "metadata": {},
   "source": [
    "### IMPORT THE DATASET"
   ]
  },
  {
   "cell_type": "code",
   "execution_count": 174,
   "id": "aef49d43-e366-434d-92cb-8984841aa067",
   "metadata": {},
   "outputs": [],
   "source": [
    "df = pd.read_csv(\"/Users/cansezgin/Python-Output/Medical_insurance.csv\")"
   ]
  },
  {
   "cell_type": "code",
   "execution_count": 176,
   "id": "430e0721-cafe-42ea-90b5-215cbd56f5d0",
   "metadata": {},
   "outputs": [
    {
     "data": {
      "text/html": [
       "<div>\n",
       "<style scoped>\n",
       "    .dataframe tbody tr th:only-of-type {\n",
       "        vertical-align: middle;\n",
       "    }\n",
       "\n",
       "    .dataframe tbody tr th {\n",
       "        vertical-align: top;\n",
       "    }\n",
       "\n",
       "    .dataframe thead th {\n",
       "        text-align: right;\n",
       "    }\n",
       "</style>\n",
       "<table border=\"1\" class=\"dataframe\">\n",
       "  <thead>\n",
       "    <tr style=\"text-align: right;\">\n",
       "      <th></th>\n",
       "      <th>age</th>\n",
       "      <th>sex</th>\n",
       "      <th>bmi</th>\n",
       "      <th>children</th>\n",
       "      <th>smoker</th>\n",
       "      <th>region</th>\n",
       "      <th>charges</th>\n",
       "    </tr>\n",
       "  </thead>\n",
       "  <tbody>\n",
       "    <tr>\n",
       "      <th>0</th>\n",
       "      <td>19</td>\n",
       "      <td>female</td>\n",
       "      <td>27.900</td>\n",
       "      <td>0</td>\n",
       "      <td>yes</td>\n",
       "      <td>southwest</td>\n",
       "      <td>16884.92400</td>\n",
       "    </tr>\n",
       "    <tr>\n",
       "      <th>1</th>\n",
       "      <td>18</td>\n",
       "      <td>male</td>\n",
       "      <td>33.770</td>\n",
       "      <td>1</td>\n",
       "      <td>no</td>\n",
       "      <td>southeast</td>\n",
       "      <td>1725.55230</td>\n",
       "    </tr>\n",
       "    <tr>\n",
       "      <th>2</th>\n",
       "      <td>28</td>\n",
       "      <td>male</td>\n",
       "      <td>33.000</td>\n",
       "      <td>3</td>\n",
       "      <td>no</td>\n",
       "      <td>southeast</td>\n",
       "      <td>4449.46200</td>\n",
       "    </tr>\n",
       "    <tr>\n",
       "      <th>3</th>\n",
       "      <td>33</td>\n",
       "      <td>male</td>\n",
       "      <td>22.705</td>\n",
       "      <td>0</td>\n",
       "      <td>no</td>\n",
       "      <td>northwest</td>\n",
       "      <td>21984.47061</td>\n",
       "    </tr>\n",
       "    <tr>\n",
       "      <th>4</th>\n",
       "      <td>32</td>\n",
       "      <td>male</td>\n",
       "      <td>28.880</td>\n",
       "      <td>0</td>\n",
       "      <td>no</td>\n",
       "      <td>northwest</td>\n",
       "      <td>3866.85520</td>\n",
       "    </tr>\n",
       "    <tr>\n",
       "      <th>5</th>\n",
       "      <td>31</td>\n",
       "      <td>female</td>\n",
       "      <td>25.740</td>\n",
       "      <td>0</td>\n",
       "      <td>no</td>\n",
       "      <td>southeast</td>\n",
       "      <td>3756.62160</td>\n",
       "    </tr>\n",
       "    <tr>\n",
       "      <th>6</th>\n",
       "      <td>46</td>\n",
       "      <td>female</td>\n",
       "      <td>33.440</td>\n",
       "      <td>1</td>\n",
       "      <td>no</td>\n",
       "      <td>southeast</td>\n",
       "      <td>8240.58960</td>\n",
       "    </tr>\n",
       "    <tr>\n",
       "      <th>7</th>\n",
       "      <td>37</td>\n",
       "      <td>female</td>\n",
       "      <td>27.740</td>\n",
       "      <td>3</td>\n",
       "      <td>no</td>\n",
       "      <td>northwest</td>\n",
       "      <td>7281.50560</td>\n",
       "    </tr>\n",
       "    <tr>\n",
       "      <th>8</th>\n",
       "      <td>37</td>\n",
       "      <td>male</td>\n",
       "      <td>29.830</td>\n",
       "      <td>2</td>\n",
       "      <td>no</td>\n",
       "      <td>northeast</td>\n",
       "      <td>6406.41070</td>\n",
       "    </tr>\n",
       "    <tr>\n",
       "      <th>9</th>\n",
       "      <td>60</td>\n",
       "      <td>female</td>\n",
       "      <td>25.840</td>\n",
       "      <td>0</td>\n",
       "      <td>no</td>\n",
       "      <td>northwest</td>\n",
       "      <td>28923.13692</td>\n",
       "    </tr>\n",
       "  </tbody>\n",
       "</table>\n",
       "</div>"
      ],
      "text/plain": [
       "   age     sex     bmi  children smoker     region      charges\n",
       "0   19  female  27.900         0    yes  southwest  16884.92400\n",
       "1   18    male  33.770         1     no  southeast   1725.55230\n",
       "2   28    male  33.000         3     no  southeast   4449.46200\n",
       "3   33    male  22.705         0     no  northwest  21984.47061\n",
       "4   32    male  28.880         0     no  northwest   3866.85520\n",
       "5   31  female  25.740         0     no  southeast   3756.62160\n",
       "6   46  female  33.440         1     no  southeast   8240.58960\n",
       "7   37  female  27.740         3     no  northwest   7281.50560\n",
       "8   37    male  29.830         2     no  northeast   6406.41070\n",
       "9   60  female  25.840         0     no  northwest  28923.13692"
      ]
     },
     "execution_count": 176,
     "metadata": {},
     "output_type": "execute_result"
    }
   ],
   "source": [
    "df.head(10)"
   ]
  },
  {
   "cell_type": "code",
   "execution_count": 178,
   "id": "6f2e7b60-2a13-4554-b7f4-1aac009f4eec",
   "metadata": {},
   "outputs": [],
   "source": [
    "# Rename the 'sex' column to 'gender'\n",
    "df.rename(columns={'sex': 'gender'}, inplace=True)"
   ]
  },
  {
   "cell_type": "code",
   "execution_count": 180,
   "id": "816ef7af-fa5b-4084-a15f-4ac8436c68a9",
   "metadata": {},
   "outputs": [
    {
     "data": {
      "text/html": [
       "<div>\n",
       "<style scoped>\n",
       "    .dataframe tbody tr th:only-of-type {\n",
       "        vertical-align: middle;\n",
       "    }\n",
       "\n",
       "    .dataframe tbody tr th {\n",
       "        vertical-align: top;\n",
       "    }\n",
       "\n",
       "    .dataframe thead th {\n",
       "        text-align: right;\n",
       "    }\n",
       "</style>\n",
       "<table border=\"1\" class=\"dataframe\">\n",
       "  <thead>\n",
       "    <tr style=\"text-align: right;\">\n",
       "      <th></th>\n",
       "      <th>age</th>\n",
       "      <th>gender</th>\n",
       "      <th>bmi</th>\n",
       "      <th>children</th>\n",
       "      <th>smoker</th>\n",
       "      <th>region</th>\n",
       "      <th>charges</th>\n",
       "    </tr>\n",
       "  </thead>\n",
       "  <tbody>\n",
       "    <tr>\n",
       "      <th>0</th>\n",
       "      <td>19</td>\n",
       "      <td>female</td>\n",
       "      <td>27.900</td>\n",
       "      <td>0</td>\n",
       "      <td>yes</td>\n",
       "      <td>southwest</td>\n",
       "      <td>16884.92400</td>\n",
       "    </tr>\n",
       "    <tr>\n",
       "      <th>1</th>\n",
       "      <td>18</td>\n",
       "      <td>male</td>\n",
       "      <td>33.770</td>\n",
       "      <td>1</td>\n",
       "      <td>no</td>\n",
       "      <td>southeast</td>\n",
       "      <td>1725.55230</td>\n",
       "    </tr>\n",
       "    <tr>\n",
       "      <th>2</th>\n",
       "      <td>28</td>\n",
       "      <td>male</td>\n",
       "      <td>33.000</td>\n",
       "      <td>3</td>\n",
       "      <td>no</td>\n",
       "      <td>southeast</td>\n",
       "      <td>4449.46200</td>\n",
       "    </tr>\n",
       "    <tr>\n",
       "      <th>3</th>\n",
       "      <td>33</td>\n",
       "      <td>male</td>\n",
       "      <td>22.705</td>\n",
       "      <td>0</td>\n",
       "      <td>no</td>\n",
       "      <td>northwest</td>\n",
       "      <td>21984.47061</td>\n",
       "    </tr>\n",
       "    <tr>\n",
       "      <th>4</th>\n",
       "      <td>32</td>\n",
       "      <td>male</td>\n",
       "      <td>28.880</td>\n",
       "      <td>0</td>\n",
       "      <td>no</td>\n",
       "      <td>northwest</td>\n",
       "      <td>3866.85520</td>\n",
       "    </tr>\n",
       "    <tr>\n",
       "      <th>5</th>\n",
       "      <td>31</td>\n",
       "      <td>female</td>\n",
       "      <td>25.740</td>\n",
       "      <td>0</td>\n",
       "      <td>no</td>\n",
       "      <td>southeast</td>\n",
       "      <td>3756.62160</td>\n",
       "    </tr>\n",
       "    <tr>\n",
       "      <th>6</th>\n",
       "      <td>46</td>\n",
       "      <td>female</td>\n",
       "      <td>33.440</td>\n",
       "      <td>1</td>\n",
       "      <td>no</td>\n",
       "      <td>southeast</td>\n",
       "      <td>8240.58960</td>\n",
       "    </tr>\n",
       "    <tr>\n",
       "      <th>7</th>\n",
       "      <td>37</td>\n",
       "      <td>female</td>\n",
       "      <td>27.740</td>\n",
       "      <td>3</td>\n",
       "      <td>no</td>\n",
       "      <td>northwest</td>\n",
       "      <td>7281.50560</td>\n",
       "    </tr>\n",
       "    <tr>\n",
       "      <th>8</th>\n",
       "      <td>37</td>\n",
       "      <td>male</td>\n",
       "      <td>29.830</td>\n",
       "      <td>2</td>\n",
       "      <td>no</td>\n",
       "      <td>northeast</td>\n",
       "      <td>6406.41070</td>\n",
       "    </tr>\n",
       "    <tr>\n",
       "      <th>9</th>\n",
       "      <td>60</td>\n",
       "      <td>female</td>\n",
       "      <td>25.840</td>\n",
       "      <td>0</td>\n",
       "      <td>no</td>\n",
       "      <td>northwest</td>\n",
       "      <td>28923.13692</td>\n",
       "    </tr>\n",
       "  </tbody>\n",
       "</table>\n",
       "</div>"
      ],
      "text/plain": [
       "   age  gender     bmi  children smoker     region      charges\n",
       "0   19  female  27.900         0    yes  southwest  16884.92400\n",
       "1   18    male  33.770         1     no  southeast   1725.55230\n",
       "2   28    male  33.000         3     no  southeast   4449.46200\n",
       "3   33    male  22.705         0     no  northwest  21984.47061\n",
       "4   32    male  28.880         0     no  northwest   3866.85520\n",
       "5   31  female  25.740         0     no  southeast   3756.62160\n",
       "6   46  female  33.440         1     no  southeast   8240.58960\n",
       "7   37  female  27.740         3     no  northwest   7281.50560\n",
       "8   37    male  29.830         2     no  northeast   6406.41070\n",
       "9   60  female  25.840         0     no  northwest  28923.13692"
      ]
     },
     "execution_count": 180,
     "metadata": {},
     "output_type": "execute_result"
    }
   ],
   "source": [
    "df.head(10)"
   ]
  },
  {
   "cell_type": "code",
   "execution_count": 182,
   "id": "b60fcc3a-8b53-4fd9-9c88-f439f227999e",
   "metadata": {},
   "outputs": [],
   "source": [
    "df.replace('?', np.nan, inplace = True)"
   ]
  },
  {
   "cell_type": "markdown",
   "id": "3147f1d4-d3c2-4972-ac74-8e3a42a5b565",
   "metadata": {},
   "source": [
    "### DATA WRANGLING"
   ]
  },
  {
   "cell_type": "code",
   "execution_count": 185,
   "id": "839e1f5c-0910-4514-8ea0-948e8ddafae9",
   "metadata": {},
   "outputs": [
    {
     "name": "stdout",
     "output_type": "stream",
     "text": [
      "<class 'pandas.core.frame.DataFrame'>\n",
      "RangeIndex: 2772 entries, 0 to 2771\n",
      "Data columns (total 7 columns):\n",
      " #   Column    Non-Null Count  Dtype  \n",
      "---  ------    --------------  -----  \n",
      " 0   age       2772 non-null   int64  \n",
      " 1   gender    2772 non-null   object \n",
      " 2   bmi       2772 non-null   float64\n",
      " 3   children  2772 non-null   int64  \n",
      " 4   smoker    2772 non-null   object \n",
      " 5   region    2772 non-null   object \n",
      " 6   charges   2772 non-null   float64\n",
      "dtypes: float64(2), int64(2), object(3)\n",
      "memory usage: 151.7+ KB\n",
      "None\n"
     ]
    }
   ],
   "source": [
    "print(df.info())"
   ]
  },
  {
   "cell_type": "markdown",
   "id": "61314e5d-f405-4fd9-8118-4a896f9efff8",
   "metadata": {},
   "source": [
    "Handle missing data:\n",
    "- For continuous attributes (e.g., age), replace missing values with the mean.\n",
    "- For categorical attributes (e.g., smoker), replace missing values with the most frequent value.\n",
    "- Update the data types of the respective columns.\n",
    "- Verify the update using df.info()."
   ]
  },
  {
   "cell_type": "code",
   "execution_count": 190,
   "id": "b7744f81-f960-4b70-8f2e-9cd89ec82f8c",
   "metadata": {},
   "outputs": [
    {
     "name": "stderr",
     "output_type": "stream",
     "text": [
      "/var/folders/ls/jfgzf4j13hx__mtdgv2_0xbw0000gn/T/ipykernel_1616/3624396146.py:7: FutureWarning: A value is trying to be set on a copy of a DataFrame or Series through chained assignment using an inplace method.\n",
      "The behavior will change in pandas 3.0. This inplace method will never work because the intermediate object on which we are setting values always behaves as a copy.\n",
      "\n",
      "For example, when doing 'df[col].method(value, inplace=True)', try using 'df.method({col: value}, inplace=True)' or df[col] = df[col].method(value) instead, to perform the operation inplace on the original object.\n",
      "\n",
      "\n",
      "  df['smoker'].replace(np.nan, is_smoker, inplace=True)\n"
     ]
    }
   ],
   "source": [
    "# smoker is a cathegorical attribute, replace with frequent entry\n",
    "\n",
    "# Get most frequent value in 'smoker' column\n",
    "is_smoker = df['smoker'].value_counts().idxmax()\n",
    "\n",
    "# Replace NaN values in 'smoker' with the most frequent value\n",
    "df['smoker'].replace(np.nan, is_smoker, inplace=True)"
   ]
  },
  {
   "cell_type": "code",
   "execution_count": 192,
   "id": "bbf86068-7554-4f36-a6ea-0ea864d70c99",
   "metadata": {},
   "outputs": [
    {
     "name": "stderr",
     "output_type": "stream",
     "text": [
      "/var/folders/ls/jfgzf4j13hx__mtdgv2_0xbw0000gn/T/ipykernel_1616/1317184997.py:7: FutureWarning: A value is trying to be set on a copy of a DataFrame or Series through chained assignment using an inplace method.\n",
      "The behavior will change in pandas 3.0. This inplace method will never work because the intermediate object on which we are setting values always behaves as a copy.\n",
      "\n",
      "For example, when doing 'df[col].method(value, inplace=True)', try using 'df.method({col: value}, inplace=True)' or df[col] = df[col].method(value) instead, to perform the operation inplace on the original object.\n",
      "\n",
      "\n",
      "  df[\"age\"].replace(np.nan, mean_age, inplace=True)\n"
     ]
    }
   ],
   "source": [
    "# age is a continuous variable, replace with mean age\n",
    "\n",
    "# Get the mean value in 'age' column\n",
    "mean_age = df['age'].astype('float').mean(axis=0)\n",
    "\n",
    "# Replace NaN values in 'age' with the mean value\n",
    "df[\"age\"].replace(np.nan, mean_age, inplace=True)"
   ]
  },
  {
   "cell_type": "code",
   "execution_count": 194,
   "id": "26845a01-3b4a-4548-8255-a76cc7328d17",
   "metadata": {},
   "outputs": [],
   "source": [
    "# ensure lowecase before mapping\n",
    "\n",
    "df['gender'] = df['gender'].str.lower()\n",
    "df['smoker'] = df['smoker'].str.lower()\n",
    "df['region'] = df['region'].str.lower()"
   ]
  },
  {
   "cell_type": "code",
   "execution_count": 196,
   "id": "e26f758a-e626-4aff-9730-8260f468da2a",
   "metadata": {},
   "outputs": [],
   "source": [
    "# Apply the specified mappings\n",
    "df['gender'] = df['gender'].map({'female': 1, 'male': 2})\n",
    "df['smoker'] = df['smoker'].map({'yes': 1, 'no': 2})\n",
    "df['region'] = df['region'].map({\n",
    "    'northwest': 1,\n",
    "    'northeast': 2,\n",
    "    'southwest': 3,\n",
    "    'southeast': 4\n",
    "})"
   ]
  },
  {
   "cell_type": "code",
   "execution_count": 198,
   "id": "efd78804-ca66-4ae6-92b9-ffc9e64ef15a",
   "metadata": {},
   "outputs": [],
   "source": [
    "df[[\"age\", \"smoker\"]] = df[[\"age\", \"smoker\"]].astype(\"int\")"
   ]
  },
  {
   "cell_type": "code",
   "execution_count": 200,
   "id": "5a81c9c3-ba27-4a8d-9f82-fe15005e334c",
   "metadata": {},
   "outputs": [
    {
     "name": "stdout",
     "output_type": "stream",
     "text": [
      "<class 'pandas.core.frame.DataFrame'>\n",
      "RangeIndex: 2772 entries, 0 to 2771\n",
      "Data columns (total 7 columns):\n",
      " #   Column    Non-Null Count  Dtype  \n",
      "---  ------    --------------  -----  \n",
      " 0   age       2772 non-null   int64  \n",
      " 1   gender    2772 non-null   int64  \n",
      " 2   bmi       2772 non-null   float64\n",
      " 3   children  2772 non-null   int64  \n",
      " 4   smoker    2772 non-null   int64  \n",
      " 5   region    2772 non-null   int64  \n",
      " 6   charges   2772 non-null   float64\n",
      "dtypes: float64(2), int64(5)\n",
      "memory usage: 151.7 KB\n",
      "None\n"
     ]
    }
   ],
   "source": [
    "print(df.info())"
   ]
  },
  {
   "cell_type": "code",
   "execution_count": 202,
   "id": "253891e4-653d-48f1-9abd-946daf3eacaa",
   "metadata": {},
   "outputs": [
    {
     "name": "stdout",
     "output_type": "stream",
     "text": [
      "   age  gender     bmi  children  smoker  region   charges\n",
      "0   19       1  27.900         0       1       3  16884.92\n",
      "1   18       2  33.770         1       2       4   1725.55\n",
      "2   28       2  33.000         3       2       4   4449.46\n",
      "3   33       2  22.705         0       2       1  21984.47\n",
      "4   32       2  28.880         0       2       1   3866.86\n"
     ]
    }
   ],
   "source": [
    "df[[\"charges\"]] = np.round(df[[\"charges\"]],2)\n",
    "print(df.head())"
   ]
  },
  {
   "cell_type": "markdown",
   "id": "20d065bd-ec51-4d91-bf35-447dab23b3ec",
   "metadata": {},
   "source": [
    "### EXPLORATORY DATA ANALYSIS"
   ]
  },
  {
   "cell_type": "code",
   "execution_count": 205,
   "id": "451e0f72-e0db-4e9a-b8f3-52d1307637d2",
   "metadata": {},
   "outputs": [
    {
     "data": {
      "text/plain": [
       "(0.0, 66902.85800000001)"
      ]
     },
     "execution_count": 205,
     "metadata": {},
     "output_type": "execute_result"
    },
    {
     "data": {
      "image/png": "[encoded data removed]",
      "text/plain": [
       "<Figure size 640x480 with 1 Axes>"
      ]
     },
     "metadata": {},
     "output_type": "display_data"
    }
   ],
   "source": [
    "# Implement the regression plot for charges with respect to bmi.\n",
    "\n",
    "sns.regplot(x=\"bmi\", y=\"charges\", data=df, line_kws={\"color\":\"red\"})\n",
    "plt.ylim(0,)"
   ]
  },
  {
   "cell_type": "code",
   "execution_count": 207,
   "id": "20b825f0-4afe-4e9f-9d20-4a7a98b0bfa1",
   "metadata": {},
   "outputs": [
    {
     "data": {
      "text/plain": [
       "<Axes: xlabel='smoker', ylabel='charges'>"
      ]
     },
     "execution_count": 207,
     "metadata": {},
     "output_type": "execute_result"
    },
    {
     "data": {
      "image/png": "[encoded data removed]",
      "text/plain": [
       "<Figure size 640x480 with 1 Axes>"
      ]
     },
     "metadata": {},
     "output_type": "display_data"
    }
   ],
   "source": [
    "# Implement the box plot for charges with respect to smoker.\n",
    "\n",
    "sns.boxplot(x=\"smoker\", y=\"charges\", data=df)"
   ]
  },
  {
   "cell_type": "code",
   "execution_count": 209,
   "id": "a849d0be-c056-4438-982e-63d230789541",
   "metadata": {},
   "outputs": [
    {
     "name": "stdout",
     "output_type": "stream",
     "text": [
      "               age    gender       bmi  children    smoker    region   charges\n",
      "age       1.000000 -0.026046  0.113048  0.037574  0.023286 -0.007167  0.298624\n",
      "gender   -0.026046  1.000000  0.042924  0.016020 -0.082326  0.022213  0.062837\n",
      "bmi       0.113048  0.042924  1.000000 -0.001492 -0.011489  0.271119  0.199846\n",
      "children  0.037574  0.016020 -0.001492  1.000000 -0.006362 -0.025717  0.066442\n",
      "smoker    0.023286 -0.082326 -0.011489 -0.006362  1.000000 -0.054077 -0.788783\n",
      "region   -0.007167  0.022213  0.271119 -0.025717 -0.054077  1.000000  0.054058\n",
      "charges   0.298624  0.062837  0.199846  0.066442 -0.788783  0.054058  1.000000\n"
     ]
    }
   ],
   "source": [
    "# Print the correlation matrix for the dataset.\n",
    "\n",
    "print(df.corr())"
   ]
  },
  {
   "cell_type": "markdown",
   "id": "f7640edf-aea4-4fb1-8927-a8c01480f4c7",
   "metadata": {},
   "source": [
    "### MODEL DEVELOPMENT"
   ]
  },
  {
   "cell_type": "code",
   "execution_count": 216,
   "id": "90329a5f-770a-4bc9-9197-a637d88b5b07",
   "metadata": {},
   "outputs": [
    {
     "name": "stdout",
     "output_type": "stream",
     "text": [
      "0.6221791733924185\n"
     ]
    }
   ],
   "source": [
    "# Fit a linear regression model that may be used to predict the charges value, just by using the smoker attribute of the dataset. Print the R2 score of this model.\n",
    "\n",
    "X = df[['smoker']]\n",
    "Y = df['charges']\n",
    "\n",
    "lm = LinearRegression()\n",
    "lm.fit(X,Y)\n",
    "\n",
    "print(lm.score(X,Y))"
   ]
  },
  {
   "cell_type": "code",
   "execution_count": 222,
   "id": "b10b3c33-e2eb-410c-a88e-7f61484271ab",
   "metadata": {},
   "outputs": [
    {
     "name": "stdout",
     "output_type": "stream",
     "text": [
      "0.7504083820289634\n"
     ]
    }
   ],
   "source": [
    "# Fit a linear regression model that may be used to predict the charges value, just by using all other attributes of the dataset. Print the R2 score of this model. You should see an improvement in the performance.\n",
    "\n",
    "# definition of Y and lm remain same as used in last cell.\n",
    "\n",
    "Z = df[[\"age\",\"gender\",\"bmi\",\"children\",\"smoker\", \"region\"]]\n",
    "lm.fit(Z,Y)\n",
    "print(lm.score(Z,Y))"
   ]
  },
  {
   "cell_type": "code",
   "execution_count": 228,
   "id": "a065610b-d872-47b6-ab84-cdcea7b37907",
   "metadata": {},
   "outputs": [
    {
     "name": "stdout",
     "output_type": "stream",
     "text": [
      "0.8452290218378298\n"
     ]
    }
   ],
   "source": [
    "# Create a training pipeline that uses StandardScaler(), PolynomialFeatures() and LinearRegression() to create a model that can predict the charges value using all the other attributes of the dataset. There should be even further improvement in the performance.\n",
    "\n",
    "# Y and Z use the same values as defined in previous cells\n",
    "\n",
    "Input = [('Scale',StandardScaler()), ('polynomial', PolynomialFeatures(include_bias=False)),\n",
    "         ('model',LinearRegression())]\n",
    "\n",
    "pipe = Pipeline(Input)\n",
    "Z = Z.astype(float)\n",
    "pipe.fit(Z,Y)\n",
    "ypipe = pipe.predict(Z)\n",
    "print(r2_score(Y,ypipe))"
   ]
  },
  {
   "cell_type": "markdown",
   "id": "5b88e4a9-cd17-4ffe-a52c-1ed5161bb30a",
   "metadata": {},
   "source": [
    "### MODEL REFINEMENT"
   ]
  },
  {
   "cell_type": "code",
   "execution_count": 231,
   "id": "72b4cc44-7529-4e86-a264-12f1d25dc40c",
   "metadata": {},
   "outputs": [],
   "source": [
    "# Split the data into training and testing subsets, assuming that 20% of the data will be reserved for testing.\n",
    "\n",
    "# Z and Y hold same values as in previous cells\n",
    "\n",
    "x_train, x_test, y_train, y_test = train_test_split(Z,Y,test_size=0.2, random_state=1)"
   ]
  },
  {
   "cell_type": "code",
   "execution_count": 233,
   "id": "b7fce370-5568-4052-b35e-9af639c32ff5",
   "metadata": {},
   "outputs": [
    {
     "name": "stdout",
     "output_type": "stream",
     "text": [
      "0.6760807731582406\n"
     ]
    }
   ],
   "source": [
    "# Initialize a Ridge regressor that used hyperparameter 𝛼 = 0.1. Fit the model using training data data subset. Print the R2 score for the testing data.\n",
    "\n",
    "# x_train, x_test, y_train, y_test hold same values as in previous cells\n",
    "\n",
    "RidgeModel = Ridge(alpha=0.1)\n",
    "RidgeModel.fit(x_train, y_train)\n",
    "yhat = RidgeModel.predict(x_test)\n",
    "print(r2_score(y_test,yhat))"
   ]
  },
  {
   "cell_type": "code",
   "execution_count": 235,
   "id": "b7d08093-9e42-470c-9d04-56f65e16ccb8",
   "metadata": {},
   "outputs": [
    {
     "name": "stdout",
     "output_type": "stream",
     "text": [
      "0.7835889701996002\n"
     ]
    }
   ],
   "source": [
    "# Apply polynomial transformation to the training parameters with degree=2. Use this transformed feature set to fit the same regression model, as above, using the training subset. Print the R2 score for the testing subset.\n",
    "\n",
    "# x_train, x_test, y_train, y_test hold same values as in previous cells\n",
    "\n",
    "pr = PolynomialFeatures(degree=2)\n",
    "x_train_pr = pr.fit_transform(x_train)\n",
    "x_test_pr = pr.transform(x_test)\n",
    "RidgeModel.fit(x_train_pr,y_train)\n",
    "y_hat = RidgeModel.predict(x_test_pr)\n",
    "print(r2_score(y_test,y_hat))"
   ]
  }
 ],
 "metadata": {
  "kernelspec": {
   "display_name": "Python 3 (ipykernel)",
   "language": "python",
   "name": "python3"
  },
  "language_info": {
   "codemirror_mode": {
    "name": "ipython",
    "version": 3
   },
   "file_extension": ".py",
   "mimetype": "text/x-python",
   "name": "python",
   "nbconvert_exporter": "python",
   "pygments_lexer": "ipython3",
   "version": "3.11.7"
  }
 },
 "nbformat": 4,
 "nbformat_minor": 5
}
