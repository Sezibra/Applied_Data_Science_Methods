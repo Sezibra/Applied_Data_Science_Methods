{
 "cells": [
  {
   "cell_type": "markdown",
   "id": "592e1c42-ee14-46de-aedc-8bccddab6ee0",
   "metadata": {},
   "source": [
    "## DATA WRANGLING"
   ]
  },
  {
   "cell_type": "code",
   "execution_count": 138,
   "id": "f51e2357-cdc3-4cb9-9342-1b92ba57d407",
   "metadata": {},
   "outputs": [],
   "source": [
    "import pandas as pd\n",
    "import numpy as np"
   ]
  },
  {
   "cell_type": "code",
   "execution_count": 140,
   "id": "632c1e48-28ea-4098-a220-74c43312920e",
   "metadata": {},
   "outputs": [],
   "source": [
    "df = pd.read_csv(\"/Users/cansezgin/Python-Output/automobile.csv\")"
   ]
  },
  {
   "cell_type": "markdown",
   "id": "46154aad-b8cb-4f94-bb80-419df97719ac",
   "metadata": {},
   "source": [
    "#### The first method: drop the rows or columns with missing values"
   ]
  },
  {
   "cell_type": "code",
   "execution_count": 143,
   "id": "714a0997-41ce-4148-8544-2adf48fe1a1f",
   "metadata": {},
   "outputs": [],
   "source": [
    "df.dropna(subset=[\"price\"], axis=0, inplace=True)\n",
    "\n",
    "# Axis = 0 drops the entire row\n",
    "# Axis = 1 drops the entire column\n",
    "# Inplace = True writes the result back into the dataframe"
   ]
  },
  {
   "cell_type": "markdown",
   "id": "2e5b58dd-bf69-414b-beda-39b38e488a25",
   "metadata": {},
   "source": [
    "#### The second method: Replace the missing values with column mean"
   ]
  },
  {
   "cell_type": "code",
   "execution_count": 146,
   "id": "7c1c3d45-ae39-4148-b342-74f448365368",
   "metadata": {},
   "outputs": [
    {
     "name": "stdout",
     "output_type": "stream",
     "text": [
      "Mean of normalized-losses: 122.0\n"
     ]
    }
   ],
   "source": [
    "# Convert the column to numeric, forcing non-numeric entries to NaN\n",
    "df[\"normalized-losses\"] = pd.to_numeric(df[\"normalized-losses\"], errors='coerce')\n",
    "\n",
    "# Now compute the mean, skipping NaN values\n",
    "mean = df[\"normalized-losses\"].mean()\n",
    "\n",
    "print(\"Mean of normalized-losses:\", mean)"
   ]
  },
  {
   "cell_type": "code",
   "execution_count": 148,
   "id": "1c11059c-b1a9-4a84-b095-9a64a5d0d758",
   "metadata": {},
   "outputs": [
    {
     "name": "stdout",
     "output_type": "stream",
     "text": [
      "0\n"
     ]
    },
    {
     "name": "stderr",
     "output_type": "stream",
     "text": [
      "/var/folders/ls/jfgzf4j13hx__mtdgv2_0xbw0000gn/T/ipykernel_1558/673329545.py:2: FutureWarning: A value is trying to be set on a copy of a DataFrame or Series through chained assignment using an inplace method.\n",
      "The behavior will change in pandas 3.0. This inplace method will never work because the intermediate object on which we are setting values always behaves as a copy.\n",
      "\n",
      "For example, when doing 'df[col].method(value, inplace=True)', try using 'df.method({col: value}, inplace=True)' or df[col] = df[col].method(value) instead, to perform the operation inplace on the original object.\n",
      "\n",
      "\n",
      "  df[\"normalized-losses\"].fillna(mean, inplace=True)\n"
     ]
    }
   ],
   "source": [
    "# Replace NaN values with the mean\n",
    "df[\"normalized-losses\"].fillna(mean, inplace=True)\n",
    "\n",
    "# Optional: confirm there are no more missing values\n",
    "print(df[\"normalized-losses\"].isnull().sum())"
   ]
  },
  {
   "cell_type": "markdown",
   "id": "6d52769f-0a62-41aa-b728-3f12b6264412",
   "metadata": {},
   "source": [
    "### Data Formating"
   ]
  },
  {
   "cell_type": "code",
   "execution_count": 153,
   "id": "c6d3ce33-c97a-4a8c-b72f-e7449630a74b",
   "metadata": {},
   "outputs": [],
   "source": [
    "df[\"city-mpg\"] = 235/df[\"city-mpg\"]"
   ]
  },
  {
   "cell_type": "code",
   "execution_count": 159,
   "id": "b986a12e-e940-4a03-ac68-b5aebe07de07",
   "metadata": {},
   "outputs": [],
   "source": [
    "df.rename(columns={\"city-mpg\":\"city-L/100km\"}, inplace=True)"
   ]
  },
  {
   "cell_type": "markdown",
   "id": "6866a382-972f-429d-9eac-853d4c1498dd",
   "metadata": {},
   "source": [
    "#### Convert Data Type"
   ]
  },
  {
   "cell_type": "code",
   "execution_count": 166,
   "id": "0ffab8c6-c68a-459b-badb-2d7eccbdc7ec",
   "metadata": {},
   "outputs": [
    {
     "data": {
      "text/plain": [
       "200    16845\n",
       "201    19045\n",
       "202    21485\n",
       "203    22470\n",
       "204    22625\n",
       "Name: price, dtype: object"
      ]
     },
     "execution_count": 166,
     "metadata": {},
     "output_type": "execute_result"
    }
   ],
   "source": [
    "df[\"price\"].tail(5)"
   ]
  },
  {
   "cell_type": "code",
   "execution_count": 175,
   "id": "ce4e91e9-5522-49e6-9cff-1f802eb19f8e",
   "metadata": {},
   "outputs": [],
   "source": [
    "# Step 1: Convert to numeric, turn \"?\" into NaN\n",
    "df[\"price\"] = pd.to_numeric(df[\"price\"], errors=\"coerce\")\n",
    "\n",
    "# Step 2: Fill missing values with the mean\n",
    "mean_price = df[\"price\"].mean()\n",
    "df[\"price\"] = df[\"price\"].fillna(mean_price)"
   ]
  },
  {
   "cell_type": "code",
   "execution_count": 177,
   "id": "58123485-e2a6-4c21-9ed6-163669b2cac7",
   "metadata": {},
   "outputs": [],
   "source": [
    "# Step 3: Convert to integer\n",
    "df[\"price\"] = df[\"price\"].astype(int)"
   ]
  },
  {
   "cell_type": "code",
   "execution_count": 181,
   "id": "8623321f-f748-4440-aed3-f8739bc1a53e",
   "metadata": {},
   "outputs": [
    {
     "data": {
      "text/plain": [
       "200    16845\n",
       "201    19045\n",
       "202    21485\n",
       "203    22470\n",
       "204    22625\n",
       "Name: price, dtype: int64"
      ]
     },
     "execution_count": 181,
     "metadata": {},
     "output_type": "execute_result"
    }
   ],
   "source": [
    "df[\"price\"].tail(5)"
   ]
  },
  {
   "cell_type": "markdown",
   "id": "014a107b-05d9-4ddc-8327-e95b80918fa4",
   "metadata": {},
   "source": [
    "### Data Normalisation"
   ]
  },
  {
   "cell_type": "markdown",
   "id": "1042afbe-d01b-4042-b37a-b4d0cb49f14f",
   "metadata": {},
   "source": [
    "#### (1) Simple Feature Scaling"
   ]
  },
  {
   "cell_type": "markdown",
   "id": "7928108b-59f9-49d9-9dab-98e99b7f970c",
   "metadata": {},
   "source": [
    "- X new = X old / X max"
   ]
  },
  {
   "cell_type": "code",
   "execution_count": 202,
   "id": "a4e758fe-ac75-4eab-8941-0c7dac0849e4",
   "metadata": {},
   "outputs": [],
   "source": [
    "df[\"length\"] = df[\"length\"]/df[\"length\"].max()"
   ]
  },
  {
   "cell_type": "code",
   "execution_count": 204,
   "id": "abe37984-379a-4b98-a1a5-36392baf66d4",
   "metadata": {},
   "outputs": [
    {
     "data": {
      "text/plain": [
       "0      0.811148\n",
       "1      0.811148\n",
       "2      0.822681\n",
       "3      0.848630\n",
       "4      0.848630\n",
       "         ...   \n",
       "200    0.907256\n",
       "201    0.907256\n",
       "202    0.907256\n",
       "203    0.907256\n",
       "204    0.907256\n",
       "Name: length, Length: 205, dtype: float64"
      ]
     },
     "execution_count": 204,
     "metadata": {},
     "output_type": "execute_result"
    }
   ],
   "source": [
    "df[\"length\"]"
   ]
  },
  {
   "cell_type": "markdown",
   "id": "f38984f3-2a6a-428b-a1df-bfcf00946824",
   "metadata": {},
   "source": [
    "#### (2) Min-Max"
   ]
  },
  {
   "cell_type": "markdown",
   "id": "46ca40b6-e307-4715-931e-8bb24e47d3c6",
   "metadata": {},
   "source": [
    "- X new = X old - X min / X max - X min"
   ]
  },
  {
   "cell_type": "code",
   "execution_count": 206,
   "id": "dcc57b36-3272-4e70-a89b-9fd07dee3824",
   "metadata": {},
   "outputs": [],
   "source": [
    "df[\"length\"] = (df[\"length\"]-df[\"length\"].min())/(df[\"length\"].max()-df[\"length\"].min())"
   ]
  },
  {
   "cell_type": "code",
   "execution_count": 208,
   "id": "d14e0a5b-89bc-43fe-9c88-c91f779a2500",
   "metadata": {},
   "outputs": [
    {
     "data": {
      "text/plain": [
       "0      0.413433\n",
       "1      0.413433\n",
       "2      0.449254\n",
       "3      0.529851\n",
       "4      0.529851\n",
       "         ...   \n",
       "200    0.711940\n",
       "201    0.711940\n",
       "202    0.711940\n",
       "203    0.711940\n",
       "204    0.711940\n",
       "Name: length, Length: 205, dtype: float64"
      ]
     },
     "execution_count": 208,
     "metadata": {},
     "output_type": "execute_result"
    }
   ],
   "source": [
    "df[\"length\"]"
   ]
  },
  {
   "cell_type": "markdown",
   "id": "3a509578-5031-4555-a50b-61c0fc9c5c54",
   "metadata": {},
   "source": [
    "#### (3) Z-Score"
   ]
  },
  {
   "cell_type": "markdown",
   "id": "2880c37c-30d2-4355-b386-5d4adaf59a6a",
   "metadata": {},
   "source": [
    "- X new = X old - M / Q"
   ]
  },
  {
   "cell_type": "code",
   "execution_count": 212,
   "id": "d8daebe6-ea93-4d91-aed0-2fac755b2c56",
   "metadata": {},
   "outputs": [],
   "source": [
    "df[\"length\"] = (df[\"length\"]-df[\"length\"].mean())/df[\"length\"].std()"
   ]
  },
  {
   "cell_type": "code",
   "execution_count": 214,
   "id": "330ce932-93c8-47cb-bca3-61b2d3e2d5ef",
   "metadata": {},
   "outputs": [
    {
     "data": {
      "text/plain": [
       "0     -0.425480\n",
       "1     -0.425480\n",
       "2     -0.230948\n",
       "3      0.206750\n",
       "4      0.206750\n",
       "         ...   \n",
       "200    1.195622\n",
       "201    1.195622\n",
       "202    1.195622\n",
       "203    1.195622\n",
       "204    1.195622\n",
       "Name: length, Length: 205, dtype: float64"
      ]
     },
     "execution_count": 214,
     "metadata": {},
     "output_type": "execute_result"
    }
   ],
   "source": [
    "df[\"length\"]"
   ]
  },
  {
   "cell_type": "markdown",
   "id": "5e72204b-9aec-4f9c-bead-e9a83206a263",
   "metadata": {},
   "source": [
    "### Binning in Python"
   ]
  },
  {
   "cell_type": "code",
   "execution_count": 217,
   "id": "5af38102-3a69-4961-a210-33e9557aafc9",
   "metadata": {},
   "outputs": [],
   "source": [
    "bins = np.linspace(min(df[\"price\"]), max(df[\"price\"]),4)"
   ]
  },
  {
   "cell_type": "code",
   "execution_count": 219,
   "id": "bc6cf9cc-3c42-4082-8930-6a1f59d63336",
   "metadata": {},
   "outputs": [],
   "source": [
    "group_names = [\"Low\", \"Medium\", \"High\"]"
   ]
  },
  {
   "cell_type": "code",
   "execution_count": 221,
   "id": "4c40990b-48eb-4d9b-adf9-64db35928c97",
   "metadata": {},
   "outputs": [],
   "source": [
    "df[\"price-binned\"] = pd.cut(df[\"price\"], bins, labels = group_names, include_lowest = True)"
   ]
  },
  {
   "cell_type": "code",
   "execution_count": 225,
   "id": "96a18ed5-c907-49d9-91b2-cacb36891a92",
   "metadata": {},
   "outputs": [
    {
     "data": {
      "text/plain": [
       "0         Low\n",
       "1         Low\n",
       "2         Low\n",
       "3         Low\n",
       "4         Low\n",
       "        ...  \n",
       "200       Low\n",
       "201    Medium\n",
       "202    Medium\n",
       "203    Medium\n",
       "204    Medium\n",
       "Name: price-binned, Length: 205, dtype: category\n",
       "Categories (3, object): ['Low' < 'Medium' < 'High']"
      ]
     },
     "execution_count": 225,
     "metadata": {},
     "output_type": "execute_result"
    }
   ],
   "source": [
    "df[\"price-binned\"]"
   ]
  },
  {
   "cell_type": "markdown",
   "id": "2dd88bc2-b8d7-47d8-90f1-62428fb1d44b",
   "metadata": {},
   "source": [
    "### Turning Categorical Variables into Quantitative Variables in Python (ONE-HOT-ENCODING)"
   ]
  },
  {
   "cell_type": "code",
   "execution_count": 235,
   "id": "7ad28537-bc02-4f6c-aa86-8da73f0219e6",
   "metadata": {},
   "outputs": [
    {
     "data": {
      "text/html": [
       "<div>\n",
       "<style scoped>\n",
       "    .dataframe tbody tr th:only-of-type {\n",
       "        vertical-align: middle;\n",
       "    }\n",
       "\n",
       "    .dataframe tbody tr th {\n",
       "        vertical-align: top;\n",
       "    }\n",
       "\n",
       "    .dataframe thead th {\n",
       "        text-align: right;\n",
       "    }\n",
       "</style>\n",
       "<table border=\"1\" class=\"dataframe\">\n",
       "  <thead>\n",
       "    <tr style=\"text-align: right;\">\n",
       "      <th></th>\n",
       "      <th>diesel</th>\n",
       "      <th>gas</th>\n",
       "    </tr>\n",
       "  </thead>\n",
       "  <tbody>\n",
       "    <tr>\n",
       "      <th>0</th>\n",
       "      <td>0</td>\n",
       "      <td>1</td>\n",
       "    </tr>\n",
       "    <tr>\n",
       "      <th>1</th>\n",
       "      <td>0</td>\n",
       "      <td>1</td>\n",
       "    </tr>\n",
       "    <tr>\n",
       "      <th>2</th>\n",
       "      <td>0</td>\n",
       "      <td>1</td>\n",
       "    </tr>\n",
       "    <tr>\n",
       "      <th>3</th>\n",
       "      <td>0</td>\n",
       "      <td>1</td>\n",
       "    </tr>\n",
       "    <tr>\n",
       "      <th>4</th>\n",
       "      <td>0</td>\n",
       "      <td>1</td>\n",
       "    </tr>\n",
       "    <tr>\n",
       "      <th>...</th>\n",
       "      <td>...</td>\n",
       "      <td>...</td>\n",
       "    </tr>\n",
       "    <tr>\n",
       "      <th>200</th>\n",
       "      <td>0</td>\n",
       "      <td>1</td>\n",
       "    </tr>\n",
       "    <tr>\n",
       "      <th>201</th>\n",
       "      <td>0</td>\n",
       "      <td>1</td>\n",
       "    </tr>\n",
       "    <tr>\n",
       "      <th>202</th>\n",
       "      <td>0</td>\n",
       "      <td>1</td>\n",
       "    </tr>\n",
       "    <tr>\n",
       "      <th>203</th>\n",
       "      <td>1</td>\n",
       "      <td>0</td>\n",
       "    </tr>\n",
       "    <tr>\n",
       "      <th>204</th>\n",
       "      <td>0</td>\n",
       "      <td>1</td>\n",
       "    </tr>\n",
       "  </tbody>\n",
       "</table>\n",
       "<p>205 rows × 2 columns</p>\n",
       "</div>"
      ],
      "text/plain": [
       "     diesel  gas\n",
       "0         0    1\n",
       "1         0    1\n",
       "2         0    1\n",
       "3         0    1\n",
       "4         0    1\n",
       "..      ...  ...\n",
       "200       0    1\n",
       "201       0    1\n",
       "202       0    1\n",
       "203       1    0\n",
       "204       0    1\n",
       "\n",
       "[205 rows x 2 columns]"
      ]
     },
     "execution_count": 235,
     "metadata": {},
     "output_type": "execute_result"
    }
   ],
   "source": [
    "pd.get_dummies(df[\"fuel-type\"]).astype(int)"
   ]
  }
 ],
 "metadata": {
  "kernelspec": {
   "display_name": "Python 3 (ipykernel)",
   "language": "python",
   "name": "python3"
  },
  "language_info": {
   "codemirror_mode": {
    "name": "ipython",
    "version": 3
   },
   "file_extension": ".py",
   "mimetype": "text/x-python",
   "name": "python",
   "nbconvert_exporter": "python",
   "pygments_lexer": "ipython3",
   "version": "3.11.7"
  }
 },
 "nbformat": 4,
 "nbformat_minor": 5
}
